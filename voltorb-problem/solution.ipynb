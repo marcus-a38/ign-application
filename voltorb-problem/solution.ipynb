{
 "cells": [
  {
   "cell_type": "code",
   "execution_count": 2,
   "metadata": {},
   "outputs": [
    {
     "name": "stdout",
     "output_type": "stream",
     "text": [
      "The average population of Jubilife City across Pokemon games is: 99...\n",
      "While the average population of Kanto across Pokemon games is 251.\n"
     ]
    }
   ],
   "source": [
    "# according to this: https://rb.gy/tk7ujs ... there are 6 Voltorbs in the Kanto Power Plant.\n",
    "# note: The prompt said Jubilife Village, but the URL sent me to a post about Jubilife City. \n",
    "# because of this, I will be calculating for Jubilife City. The village would require less Voltorbs.\n",
    "\n",
    "from math import *\n",
    "\n",
    "J = various_populations_of_jubilife = [87, 88, 124] # across game versions\n",
    "K = various_populations_of_kanto = [364, 391] # across game versions\n",
    "\n",
    "J_AVERAGE = floor(sum(J) / 3)\n",
    "K_AVERAGE = floor(sum(K) / 3)\n",
    "\n",
    "print(f\"The average population of Jubilife City across Pokemon games is: {J_AVERAGE}...\")\n",
    "print(f\"While the average population of Kanto across Pokemon games is {K_AVERAGE}.\")"
   ]
  },
  {
   "cell_type": "code",
   "execution_count": 30,
   "metadata": {},
   "outputs": [
    {
     "name": "stdout",
     "output_type": "stream",
     "text": [
      "The population ratio of Jubilife : Kanto is 0.3944.\n",
      "Therefore, the amount of Voltorbs needed to power Jubilife City's powerplant is: 3.\n"
     ]
    }
   ],
   "source": [
    "# We must ceil() the VOLTORBS_NEEDED as we cannot have a fraction of a Voltorb.\n",
    "\n",
    "population_ratio = round((J_AVERAGE / K_AVERAGE), 4) # ratio of jubilife population : kanto population, decimal\n",
    "\n",
    "print(f\"The population ratio of Jubilife : Kanto is {population_ratio}.\")\n",
    "\n",
    "VOLTORBS_NEEDED = ceil(6 * population_ratio) # just assume that the amount of voltorbs required scales linearly with population.\n",
    "print(f\"Therefore, the amount of Voltorbs needed to power Jubilife City's powerplant is: {VOLTORBS_NEEDED}.\")\n"
   ]
  }
 ],
 "metadata": {
  "kernelspec": {
   "display_name": "Python 3",
   "language": "python",
   "name": "python3"
  },
  "language_info": {
   "codemirror_mode": {
    "name": "ipython",
    "version": 3
   },
   "file_extension": ".py",
   "mimetype": "text/x-python",
   "name": "python",
   "nbconvert_exporter": "python",
   "pygments_lexer": "ipython3",
   "version": "3.10.10"
  },
  "orig_nbformat": 4
 },
 "nbformat": 4,
 "nbformat_minor": 2
}
